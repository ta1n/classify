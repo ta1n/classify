{
 "cells": [
  {
   "cell_type": "code",
   "execution_count": 1,
   "id": "62f29589-865d-4cbd-af5f-8093f2f39ed1",
   "metadata": {},
   "outputs": [],
   "source": [
    "import numpy"
   ]
  },
  {
   "cell_type": "code",
   "execution_count": 2,
   "id": "ccd87976-4045-47ac-9f87-8ef5d8451d35",
   "metadata": {},
   "outputs": [
    {
     "name": "stdout",
     "output_type": "stream",
     "text": [
      "sldjf\n"
     ]
    }
   ],
   "source": [
    "print(\"sldjf\")"
   ]
  },
  {
   "cell_type": "code",
   "execution_count": 4,
   "id": "7eb3da0f-cad4-4f5e-ae36-9f32eef99613",
   "metadata": {},
   "outputs": [],
   "source": [
    "import torch"
   ]
  },
  {
   "cell_type": "code",
   "execution_count": 5,
   "id": "486a850b-7714-4d26-817d-80c8e63ffdb8",
   "metadata": {},
   "outputs": [],
   "source": [
    "from PIL import Image"
   ]
  },
  {
   "cell_type": "code",
   "execution_count": null,
   "id": "4f5f80fd-e597-4cf8-9a49-8fee59b1d81e",
   "metadata": {},
   "outputs": [],
   "source": []
  }
 ],
 "metadata": {
  "kernelspec": {
   "display_name": "Python 3 (ipykernel)",
   "language": "python",
   "name": "python3"
  },
  "language_info": {
   "codemirror_mode": {
    "name": "ipython",
    "version": 3
   },
   "file_extension": ".py",
   "mimetype": "text/x-python",
   "name": "python",
   "nbconvert_exporter": "python",
   "pygments_lexer": "ipython3",
   "version": "3.11.8"
  }
 },
 "nbformat": 4,
 "nbformat_minor": 5
}
